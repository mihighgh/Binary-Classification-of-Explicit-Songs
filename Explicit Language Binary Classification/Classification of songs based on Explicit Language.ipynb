{
 "cells": [
  {
   "cell_type": "markdown",
   "id": "b9d5f00b",
   "metadata": {},
   "source": [
    "# Import the libraries"
   ]
  },
  {
   "cell_type": "code",
   "execution_count": 97,
   "id": "e60858dc",
   "metadata": {},
   "outputs": [],
   "source": [
    "from statsmodels.stats.outliers_influence import variance_inflation_factor\n",
    "from sklearn.model_selection import RepeatedStratifiedKFold\n",
    "from sklearn.model_selection import train_test_split\n",
    "from sklearn.linear_model import LogisticRegression\n",
    "from sklearn.model_selection import GridSearchCV\n",
    "from sklearn.preprocessing import StandardScaler\n",
    "from sklearn.tree import DecisionTreeClassifier, plot_tree\n",
    "from sklearn.model_selection import KFold\n",
    "from sklearn import metrics\n",
    "from sklearn.metrics import plot_confusion_matrix\n",
    "\n",
    "import statsmodels.formula.api as smf\n",
    "import matplotlib.pyplot as plt\n",
    "import warnings\n",
    "warnings.filterwarnings(\"ignore\")\n",
    "import statsmodels.api as sm\n",
    "import seaborn as sns\n",
    "import pandas as pd\n",
    "import numpy as np\n",
    "import warnings"
   ]
  },
  {
   "cell_type": "markdown",
   "id": "10e0095a",
   "metadata": {},
   "source": [
    "# Prepare the dataframe we will work with"
   ]
  },
  {
   "cell_type": "markdown",
   "id": "6422e61c",
   "metadata": {},
   "source": [
    "#### Drop the null values"
   ]
  },
  {
   "cell_type": "code",
   "execution_count": 98,
   "id": "ead69439",
   "metadata": {},
   "outputs": [],
   "source": [
    "df = pd.read_csv(\"tracks_2021.csv\")"
   ]
  },
  {
   "cell_type": "code",
   "execution_count": 99,
   "id": "7f36cfc4",
   "metadata": {},
   "outputs": [],
   "source": [
    "df = df.dropna()"
   ]
  },
  {
   "cell_type": "code",
   "execution_count": 100,
   "id": "0538a2f3",
   "metadata": {},
   "outputs": [
    {
     "data": {
      "text/html": [
       "<div>\n",
       "<style scoped>\n",
       "    .dataframe tbody tr th:only-of-type {\n",
       "        vertical-align: middle;\n",
       "    }\n",
       "\n",
       "    .dataframe tbody tr th {\n",
       "        vertical-align: top;\n",
       "    }\n",
       "\n",
       "    .dataframe thead th {\n",
       "        text-align: right;\n",
       "    }\n",
       "</style>\n",
       "<table border=\"1\" class=\"dataframe\">\n",
       "  <thead>\n",
       "    <tr style=\"text-align: right;\">\n",
       "      <th></th>\n",
       "      <th>release_date</th>\n",
       "      <th>name</th>\n",
       "      <th>duration_ms</th>\n",
       "      <th>danceability</th>\n",
       "      <th>energy</th>\n",
       "      <th>key</th>\n",
       "      <th>loudness</th>\n",
       "      <th>speechiness</th>\n",
       "      <th>acousticness</th>\n",
       "      <th>instrumentalness</th>\n",
       "      <th>liveness</th>\n",
       "      <th>valence</th>\n",
       "      <th>tempo</th>\n",
       "      <th>explicit</th>\n",
       "    </tr>\n",
       "  </thead>\n",
       "  <tbody>\n",
       "    <tr>\n",
       "      <th>0</th>\n",
       "      <td>28/01/2021</td>\n",
       "      <td>09 01 1966</td>\n",
       "      <td>242068</td>\n",
       "      <td>0.507</td>\n",
       "      <td>0.341</td>\n",
       "      <td>5</td>\n",
       "      <td>-11.765</td>\n",
       "      <td>0.0302</td>\n",
       "      <td>0.78300</td>\n",
       "      <td>0.000245</td>\n",
       "      <td>0.1940</td>\n",
       "      <td>0.319</td>\n",
       "      <td>150.142</td>\n",
       "      <td>0</td>\n",
       "    </tr>\n",
       "    <tr>\n",
       "      <th>1</th>\n",
       "      <td>04/02/2021</td>\n",
       "      <td>Year 3000</td>\n",
       "      <td>163680</td>\n",
       "      <td>0.606</td>\n",
       "      <td>0.538</td>\n",
       "      <td>10</td>\n",
       "      <td>-9.353</td>\n",
       "      <td>0.1010</td>\n",
       "      <td>0.09520</td>\n",
       "      <td>0.000384</td>\n",
       "      <td>0.1250</td>\n",
       "      <td>0.185</td>\n",
       "      <td>146.918</td>\n",
       "      <td>1</td>\n",
       "    </tr>\n",
       "    <tr>\n",
       "      <th>2</th>\n",
       "      <td>10/04/2021</td>\n",
       "      <td>THE YEAR 3000</td>\n",
       "      <td>114888</td>\n",
       "      <td>0.616</td>\n",
       "      <td>0.842</td>\n",
       "      <td>4</td>\n",
       "      <td>-14.327</td>\n",
       "      <td>0.1030</td>\n",
       "      <td>0.35700</td>\n",
       "      <td>0.412000</td>\n",
       "      <td>0.6730</td>\n",
       "      <td>0.782</td>\n",
       "      <td>140.063</td>\n",
       "      <td>0</td>\n",
       "    </tr>\n",
       "    <tr>\n",
       "      <th>3</th>\n",
       "      <td>09/04/2021</td>\n",
       "      <td>Logical Brain - Year 3000 Mix</td>\n",
       "      <td>216705</td>\n",
       "      <td>0.745</td>\n",
       "      <td>0.732</td>\n",
       "      <td>9</td>\n",
       "      <td>-11.286</td>\n",
       "      <td>0.0759</td>\n",
       "      <td>0.08330</td>\n",
       "      <td>0.928000</td>\n",
       "      <td>0.0691</td>\n",
       "      <td>0.954</td>\n",
       "      <td>125.004</td>\n",
       "      <td>0</td>\n",
       "    </tr>\n",
       "    <tr>\n",
       "      <th>4</th>\n",
       "      <td>24/02/2021</td>\n",
       "      <td>Year 3000</td>\n",
       "      <td>120301</td>\n",
       "      <td>0.712</td>\n",
       "      <td>0.940</td>\n",
       "      <td>2</td>\n",
       "      <td>-8.064</td>\n",
       "      <td>0.0593</td>\n",
       "      <td>0.00682</td>\n",
       "      <td>0.738000</td>\n",
       "      <td>0.1010</td>\n",
       "      <td>0.737</td>\n",
       "      <td>168.066</td>\n",
       "      <td>0</td>\n",
       "    </tr>\n",
       "  </tbody>\n",
       "</table>\n",
       "</div>"
      ],
      "text/plain": [
       "  release_date                           name  duration_ms  danceability  \\\n",
       "0   28/01/2021                     09 01 1966       242068         0.507   \n",
       "1   04/02/2021                      Year 3000       163680         0.606   \n",
       "2   10/04/2021                  THE YEAR 3000       114888         0.616   \n",
       "3   09/04/2021  Logical Brain - Year 3000 Mix       216705         0.745   \n",
       "4   24/02/2021                      Year 3000       120301         0.712   \n",
       "\n",
       "   energy  key  loudness  speechiness  acousticness  instrumentalness  \\\n",
       "0   0.341    5   -11.765       0.0302       0.78300          0.000245   \n",
       "1   0.538   10    -9.353       0.1010       0.09520          0.000384   \n",
       "2   0.842    4   -14.327       0.1030       0.35700          0.412000   \n",
       "3   0.732    9   -11.286       0.0759       0.08330          0.928000   \n",
       "4   0.940    2    -8.064       0.0593       0.00682          0.738000   \n",
       "\n",
       "   liveness  valence    tempo  explicit  \n",
       "0    0.1940    0.319  150.142         0  \n",
       "1    0.1250    0.185  146.918         1  \n",
       "2    0.6730    0.782  140.063         0  \n",
       "3    0.0691    0.954  125.004         0  \n",
       "4    0.1010    0.737  168.066         0  "
      ]
     },
     "execution_count": 100,
     "metadata": {},
     "output_type": "execute_result"
    }
   ],
   "source": [
    "df.head(5)"
   ]
  },
  {
   "cell_type": "code",
   "execution_count": 101,
   "id": "d49fe075",
   "metadata": {},
   "outputs": [
    {
     "data": {
      "text/plain": [
       "release_date         object\n",
       "name                 object\n",
       "duration_ms           int64\n",
       "danceability        float64\n",
       "energy              float64\n",
       "key                   int64\n",
       "loudness            float64\n",
       "speechiness         float64\n",
       "acousticness        float64\n",
       "instrumentalness    float64\n",
       "liveness            float64\n",
       "valence             float64\n",
       "tempo               float64\n",
       "explicit              int64\n",
       "dtype: object"
      ]
     },
     "execution_count": 101,
     "metadata": {},
     "output_type": "execute_result"
    }
   ],
   "source": [
    "df.dtypes"
   ]
  },
  {
   "cell_type": "markdown",
   "id": "d8c59532",
   "metadata": {},
   "source": [
    "# Build the Model with StatsModel"
   ]
  },
  {
   "cell_type": "markdown",
   "id": "c4447766",
   "metadata": {},
   "source": [
    "#### Check multicolinearity using correlation matrix"
   ]
  },
  {
   "cell_type": "code",
   "execution_count": 102,
   "id": "ca54ac17",
   "metadata": {},
   "outputs": [],
   "source": [
    "X_corr = df.iloc[:, [2, 5, 7, 8, 9, 10, 11]]"
   ]
  },
  {
   "cell_type": "code",
   "execution_count": 103,
   "id": "d2cc897d",
   "metadata": {},
   "outputs": [
    {
     "data": {
      "image/png": "[encoded data removed]",
      "text/plain": [
       "<Figure size 1152x432 with 2 Axes>"
      ]
     },
     "metadata": {
      "needs_background": "light"
     },
     "output_type": "display_data"
    }
   ],
   "source": [
    "plt.figure(figsize=(16, 6))\n",
    "heatmap = sns.heatmap(X_corr.corr(), vmin=-1, vmax=1, annot=True, cmap='BrBG')\n",
    "heatmap.set_title('Correlation Matrix', fontdict={'fontsize':18}, pad=12);"
   ]
  },
  {
   "cell_type": "markdown",
   "id": "1c5b618e",
   "metadata": {},
   "source": [
    "#### Check multicolinearity using VIF"
   ]
  },
  {
   "cell_type": "code",
   "execution_count": 104,
   "id": "5984515a",
   "metadata": {},
   "outputs": [
    {
     "data": {
      "text/html": [
       "<div>\n",
       "<style scoped>\n",
       "    .dataframe tbody tr th:only-of-type {\n",
       "        vertical-align: middle;\n",
       "    }\n",
       "\n",
       "    .dataframe tbody tr th {\n",
       "        vertical-align: top;\n",
       "    }\n",
       "\n",
       "    .dataframe thead th {\n",
       "        text-align: right;\n",
       "    }\n",
       "</style>\n",
       "<table border=\"1\" class=\"dataframe\">\n",
       "  <thead>\n",
       "    <tr style=\"text-align: right;\">\n",
       "      <th></th>\n",
       "      <th>variables</th>\n",
       "      <th>VIF</th>\n",
       "    </tr>\n",
       "  </thead>\n",
       "  <tbody>\n",
       "    <tr>\n",
       "      <th>0</th>\n",
       "      <td>duration_ms</td>\n",
       "      <td>4.290188</td>\n",
       "    </tr>\n",
       "    <tr>\n",
       "      <th>1</th>\n",
       "      <td>key</td>\n",
       "      <td>2.898910</td>\n",
       "    </tr>\n",
       "    <tr>\n",
       "      <th>2</th>\n",
       "      <td>speechiness</td>\n",
       "      <td>1.992669</td>\n",
       "    </tr>\n",
       "    <tr>\n",
       "      <th>3</th>\n",
       "      <td>acousticness</td>\n",
       "      <td>2.086414</td>\n",
       "    </tr>\n",
       "    <tr>\n",
       "      <th>4</th>\n",
       "      <td>instrumentalness</td>\n",
       "      <td>1.363421</td>\n",
       "    </tr>\n",
       "    <tr>\n",
       "      <th>5</th>\n",
       "      <td>liveness</td>\n",
       "      <td>2.505681</td>\n",
       "    </tr>\n",
       "    <tr>\n",
       "      <th>6</th>\n",
       "      <td>valence</td>\n",
       "      <td>4.165829</td>\n",
       "    </tr>\n",
       "  </tbody>\n",
       "</table>\n",
       "</div>"
      ],
      "text/plain": [
       "          variables       VIF\n",
       "0       duration_ms  4.290188\n",
       "1               key  2.898910\n",
       "2       speechiness  1.992669\n",
       "3      acousticness  2.086414\n",
       "4  instrumentalness  1.363421\n",
       "5          liveness  2.505681\n",
       "6           valence  4.165829"
      ]
     },
     "execution_count": 104,
     "metadata": {},
     "output_type": "execute_result"
    }
   ],
   "source": [
    "# Calculating VIF\n",
    "vif = pd.DataFrame()\n",
    "vif[\"variables\"] = X_corr.columns\n",
    "vif[\"VIF\"] = [variance_inflation_factor(X_corr.values, i) for i in range(X_corr.shape[1])]\n",
    "vif"
   ]
  },
  {
   "cell_type": "markdown",
   "id": "f8e7f715",
   "metadata": {},
   "source": [
    "#### Fitting a Logistic Regression\n"
   ]
  },
  {
   "cell_type": "code",
   "execution_count": 105,
   "id": "31a675bf",
   "metadata": {},
   "outputs": [
    {
     "name": "stdout",
     "output_type": "stream",
     "text": [
      "Optimization terminated successfully.\n",
      "         Current function value: 0.482811\n",
      "         Iterations 8\n"
     ]
    }
   ],
   "source": [
    "log_reg = smf.logit(\"explicit ~ duration_ms + key + speechiness + acousticness + instrumentalness + liveness + valence\", data = df)\n",
    "result = log_reg.fit()"
   ]
  },
  {
   "cell_type": "code",
   "execution_count": 106,
   "id": "1b2dbdad",
   "metadata": {
    "scrolled": false
   },
   "outputs": [
    {
     "data": {
      "text/html": [
       "<table class=\"simpletable\">\n",
       "<caption>Logit Regression Results</caption>\n",
       "<tr>\n",
       "  <th>Dep. Variable:</th>       <td>explicit</td>     <th>  No. Observations:  </th>   <td>  6281</td>  \n",
       "</tr>\n",
       "<tr>\n",
       "  <th>Model:</th>                 <td>Logit</td>      <th>  Df Residuals:      </th>   <td>  6273</td>  \n",
       "</tr>\n",
       "<tr>\n",
       "  <th>Method:</th>                 <td>MLE</td>       <th>  Df Model:          </th>   <td>     7</td>  \n",
       "</tr>\n",
       "<tr>\n",
       "  <th>Date:</th>            <td>Tue, 25 Jan 2022</td> <th>  Pseudo R-squ.:     </th>   <td>0.1584</td>  \n",
       "</tr>\n",
       "<tr>\n",
       "  <th>Time:</th>                <td>18:20:45</td>     <th>  Log-Likelihood:    </th>  <td> -3032.5</td> \n",
       "</tr>\n",
       "<tr>\n",
       "  <th>converged:</th>             <td>True</td>       <th>  LL-Null:           </th>  <td> -3603.5</td> \n",
       "</tr>\n",
       "<tr>\n",
       "  <th>Covariance Type:</th>     <td>nonrobust</td>    <th>  LLR p-value:       </th> <td>2.579e-242</td>\n",
       "</tr>\n",
       "</table>\n",
       "<table class=\"simpletable\">\n",
       "<tr>\n",
       "          <td></td>            <th>coef</th>     <th>std err</th>      <th>z</th>      <th>P>|z|</th>  <th>[0.025</th>    <th>0.975]</th>  \n",
       "</tr>\n",
       "<tr>\n",
       "  <th>Intercept</th>        <td>    0.7718</td> <td>    0.188</td> <td>    4.104</td> <td> 0.000</td> <td>    0.403</td> <td>    1.140</td>\n",
       "</tr>\n",
       "<tr>\n",
       "  <th>duration_ms</th>      <td>-6.683e-06</td> <td> 7.32e-07</td> <td>   -9.125</td> <td> 0.000</td> <td>-8.12e-06</td> <td>-5.25e-06</td>\n",
       "</tr>\n",
       "<tr>\n",
       "  <th>key</th>              <td>   -0.0322</td> <td>    0.009</td> <td>   -3.680</td> <td> 0.000</td> <td>   -0.049</td> <td>   -0.015</td>\n",
       "</tr>\n",
       "<tr>\n",
       "  <th>speechiness</th>      <td>    5.0623</td> <td>    0.263</td> <td>   19.260</td> <td> 0.000</td> <td>    4.547</td> <td>    5.577</td>\n",
       "</tr>\n",
       "<tr>\n",
       "  <th>acousticness</th>     <td>   -0.5350</td> <td>    0.136</td> <td>   -3.945</td> <td> 0.000</td> <td>   -0.801</td> <td>   -0.269</td>\n",
       "</tr>\n",
       "<tr>\n",
       "  <th>instrumentalness</th> <td>   -4.2163</td> <td>    0.326</td> <td>  -12.937</td> <td> 0.000</td> <td>   -4.855</td> <td>   -3.578</td>\n",
       "</tr>\n",
       "<tr>\n",
       "  <th>liveness</th>         <td>   -1.0111</td> <td>    0.257</td> <td>   -3.932</td> <td> 0.000</td> <td>   -1.515</td> <td>   -0.507</td>\n",
       "</tr>\n",
       "<tr>\n",
       "  <th>valence</th>          <td>   -1.0775</td> <td>    0.146</td> <td>   -7.404</td> <td> 0.000</td> <td>   -1.363</td> <td>   -0.792</td>\n",
       "</tr>\n",
       "</table>"
      ],
      "text/plain": [
       "<class 'statsmodels.iolib.summary.Summary'>\n",
       "\"\"\"\n",
       "                           Logit Regression Results                           \n",
       "==============================================================================\n",
       "Dep. Variable:               explicit   No. Observations:                 6281\n",
       "Model:                          Logit   Df Residuals:                     6273\n",
       "Method:                           MLE   Df Model:                            7\n",
       "Date:                Tue, 25 Jan 2022   Pseudo R-squ.:                  0.1584\n",
       "Time:                        18:20:45   Log-Likelihood:                -3032.5\n",
       "converged:                       True   LL-Null:                       -3603.5\n",
       "Covariance Type:            nonrobust   LLR p-value:                2.579e-242\n",
       "====================================================================================\n",
       "                       coef    std err          z      P>|z|      [0.025      0.975]\n",
       "------------------------------------------------------------------------------------\n",
       "Intercept            0.7718      0.188      4.104      0.000       0.403       1.140\n",
       "duration_ms      -6.683e-06   7.32e-07     -9.125      0.000   -8.12e-06   -5.25e-06\n",
       "key                 -0.0322      0.009     -3.680      0.000      -0.049      -0.015\n",
       "speechiness          5.0623      0.263     19.260      0.000       4.547       5.577\n",
       "acousticness        -0.5350      0.136     -3.945      0.000      -0.801      -0.269\n",
       "instrumentalness    -4.2163      0.326    -12.937      0.000      -4.855      -3.578\n",
       "liveness            -1.0111      0.257     -3.932      0.000      -1.515      -0.507\n",
       "valence             -1.0775      0.146     -7.404      0.000      -1.363      -0.792\n",
       "====================================================================================\n",
       "\"\"\""
      ]
     },
     "execution_count": 106,
     "metadata": {},
     "output_type": "execute_result"
    }
   ],
   "source": [
    "result.summary()"
   ]
  },
  {
   "cell_type": "markdown",
   "id": "4ae683bf",
   "metadata": {},
   "source": [
    "#### As we can see above, all the independent variables are statistically significant because the p-value is smaller than 0.05"
   ]
  },
  {
   "cell_type": "markdown",
   "id": "d1f41ad8",
   "metadata": {},
   "source": [
    "# Define our sklearn model"
   ]
  },
  {
   "cell_type": "code",
   "execution_count": 107,
   "id": "5be9432e",
   "metadata": {},
   "outputs": [],
   "source": [
    "feature_columns = ['duration_ms', 'key', 'speechiness', 'acousticness', 'instrumentalness', 'liveness', 'valence']\n",
    "X = df[feature_columns]\n",
    "y = df.explicit"
   ]
  },
  {
   "cell_type": "markdown",
   "id": "e04c1125",
   "metadata": {},
   "source": [
    "#### Balance the dataset since it's highly umbalanced"
   ]
  },
  {
   "cell_type": "code",
   "execution_count": 108,
   "id": "d462c892",
   "metadata": {},
   "outputs": [],
   "source": [
    "from imblearn.under_sampling import RandomUnderSampler\n",
    "\n",
    "rus = RandomUnderSampler(sampling_strategy=\"not minority\")\n",
    "X, y = rus.fit_resample(X, y)"
   ]
  },
  {
   "cell_type": "code",
   "execution_count": 109,
   "id": "4111b9be",
   "metadata": {},
   "outputs": [
    {
     "data": {
      "text/plain": [
       "0    1637\n",
       "1    1637\n",
       "Name: explicit, dtype: int64"
      ]
     },
     "execution_count": 109,
     "metadata": {},
     "output_type": "execute_result"
    }
   ],
   "source": [
    "y.value_counts()"
   ]
  },
  {
   "cell_type": "markdown",
   "id": "aacbfcb2",
   "metadata": {},
   "source": [
    "#### Scale the independent variables"
   ]
  },
  {
   "cell_type": "code",
   "execution_count": 110,
   "id": "ac1013f0",
   "metadata": {},
   "outputs": [
    {
     "data": {
      "text/plain": [
       "StandardScaler()"
      ]
     },
     "execution_count": 110,
     "metadata": {},
     "output_type": "execute_result"
    }
   ],
   "source": [
    "scaler = StandardScaler()\n",
    "scaler.fit(X)"
   ]
  },
  {
   "cell_type": "markdown",
   "id": "605a3ce6",
   "metadata": {},
   "source": [
    "#### Train-Test Split"
   ]
  },
  {
   "cell_type": "code",
   "execution_count": 111,
   "id": "b7c4c102",
   "metadata": {},
   "outputs": [],
   "source": [
    "X_train, X_test, y_train, y_test_log = train_test_split(X, y, test_size=0.2, random_state=0)"
   ]
  },
  {
   "cell_type": "markdown",
   "id": "b42319fb",
   "metadata": {},
   "source": [
    "# Logistic Regression Explicit Language"
   ]
  },
  {
   "cell_type": "markdown",
   "id": "e42155da",
   "metadata": {},
   "source": [
    "#### Find the Best Hyperparameters to Tune the Model"
   ]
  },
  {
   "cell_type": "code",
   "execution_count": 112,
   "id": "706ff09c",
   "metadata": {
    "scrolled": true
   },
   "outputs": [],
   "source": [
    "# # Parameters Grid\n",
    "# solver = ['newton-cg', 'lbfgs', 'liblinear']\n",
    "# penalty = ['l1', 'l2']\n",
    "# C = [100, 10, 1.0, 0.1, 0.01]\n",
    "\n",
    "# log_regressor = LogisticRegression()\n",
    "\n",
    "# grid = dict(solver=solver,penalty=penalty,C=C)\n",
    "\n",
    "# cv = RepeatedStratifiedKFold(n_splits=10, n_repeats=3, random_state=1)\n",
    "\n",
    "# grid_search = GridSearchCV(estimator=log_regressor,\n",
    "#                            param_grid=grid,\n",
    "#                            n_jobs=-1,\n",
    "#                            cv=cv,\n",
    "#                            scoring='accuracy',\n",
    "#                            error_score=0)\n",
    "\n",
    "# grid_result = grid_search.fit(X_train, y_train)\n",
    "\n",
    "# # summarize results\n",
    "# print(f\"Best Model: {round(grid_result.best_score_, 3)} using {grid_result.best_params_}\")"
   ]
  },
  {
   "cell_type": "markdown",
   "id": "6bb84c14",
   "metadata": {},
   "source": [
    "#### Creating our regressor object"
   ]
  },
  {
   "cell_type": "code",
   "execution_count": 113,
   "id": "7b8fa408",
   "metadata": {},
   "outputs": [],
   "source": [
    "log_regressor = LogisticRegression(solver = 'newton-cg',\n",
    "                                   C = 1,\n",
    "                                   penalty = 'l2',\n",
    "                                   class_weight=\"balanced\")"
   ]
  },
  {
   "cell_type": "markdown",
   "id": "44d22d9e",
   "metadata": {},
   "source": [
    "#### Fit the model"
   ]
  },
  {
   "cell_type": "code",
   "execution_count": 114,
   "id": "30dabc8e",
   "metadata": {},
   "outputs": [
    {
     "name": "stdout",
     "output_type": "stream",
     "text": [
      "Train accuracy: 0.748377243222604\n",
      "Test accuracy: 0.7603053435114504\n"
     ]
    }
   ],
   "source": [
    "log_regressor.fit(X_train,y_train)\n",
    "\n",
    "print(f\"Train accuracy: {log_regressor.score(X_train, y_train)}\")\n",
    "print(f\"Test accuracy: {log_regressor.score(X_test, y_test_log)}\")"
   ]
  },
  {
   "cell_type": "markdown",
   "id": "4a06090c",
   "metadata": {},
   "source": [
    "#### Check the results with k-fold cross validation"
   ]
  },
  {
   "cell_type": "code",
   "execution_count": 115,
   "id": "88a66d6a",
   "metadata": {},
   "outputs": [
    {
     "data": {
      "text/plain": [
       "0.736"
      ]
     },
     "execution_count": 115,
     "metadata": {},
     "output_type": "execute_result"
    }
   ],
   "source": [
    "from sklearn.model_selection import cross_val_score\n",
    "predicted = cross_val_score(log_regressor, X, y, cv=5)\n",
    "round(predicted.mean(), 3)"
   ]
  },
  {
   "cell_type": "raw",
   "id": "4e6801a8",
   "metadata": {},
   "source": [
    "As we can see, applying cross-validation is not going to improve our model"
   ]
  },
  {
   "cell_type": "markdown",
   "id": "d73951b8",
   "metadata": {},
   "source": [
    "#### Make Predictions"
   ]
  },
  {
   "cell_type": "code",
   "execution_count": 116,
   "id": "5af591aa",
   "metadata": {},
   "outputs": [],
   "source": [
    "y_pred_log = log_regressor.predict(X_test)"
   ]
  },
  {
   "cell_type": "markdown",
   "id": "40b0735f",
   "metadata": {},
   "source": [
    "#### f1 Score"
   ]
  },
  {
   "cell_type": "code",
   "execution_count": 117,
   "id": "00579b23",
   "metadata": {},
   "outputs": [
    {
     "name": "stdout",
     "output_type": "stream",
     "text": [
      "The f1 score for the model model is: 0.755\n"
     ]
    }
   ],
   "source": [
    "print('The f1 score for the model model is:', round(metrics.f1_score(y_test_log, y_pred_log),3))"
   ]
  },
  {
   "cell_type": "markdown",
   "id": "03dcb5f7",
   "metadata": {},
   "source": [
    "#### If f1 score is zero it indicates that the model is performing poorly on the minority class. We can also confirm this by looking at the confusion matrix."
   ]
  },
  {
   "cell_type": "markdown",
   "id": "9befdb8d",
   "metadata": {},
   "source": [
    "#### Evaluate the model using Confusion Matrix"
   ]
  },
  {
   "cell_type": "code",
   "execution_count": 118,
   "id": "474adbb1",
   "metadata": {},
   "outputs": [],
   "source": [
    "cnf_matrix = metrics.confusion_matrix(y_test_log, y_pred_log)"
   ]
  },
  {
   "cell_type": "code",
   "execution_count": 119,
   "id": "c6c43ee8",
   "metadata": {},
   "outputs": [
    {
     "data": {
      "text/plain": [
       "array([[256,  81],\n",
       "       [ 76, 242]], dtype=int64)"
      ]
     },
     "execution_count": 119,
     "metadata": {},
     "output_type": "execute_result"
    }
   ],
   "source": [
    "cnf_matrix"
   ]
  },
  {
   "cell_type": "code",
   "execution_count": 120,
   "id": "e8e6ae1e",
   "metadata": {
    "scrolled": false
   },
   "outputs": [
    {
     "data": {
      "text/plain": [
       "Text(0.5, 33.0, 'Predicted label')"
      ]
     },
     "execution_count": 120,
     "metadata": {},
     "output_type": "execute_result"
    },
    {
     "data": {
      "image/png": "[encoded data removed]",
      "text/plain": [
       "<Figure size 1152x432 with 2 Axes>"
      ]
     },
     "metadata": {
      "needs_background": "light"
     },
     "output_type": "display_data"
    }
   ],
   "source": [
    "plt.figure(figsize=(16, 6))\n",
    "sns.heatmap(pd.DataFrame(cnf_matrix), annot=True, cmap=\"BrBG\" ,fmt='g')\n",
    "plt.title('Correlation Matrix', fontdict={'fontsize':18}, pad=12)\n",
    "plt.ylabel('Actual label', size=14)\n",
    "plt.xlabel('Predicted label', size=14)"
   ]
  },
  {
   "cell_type": "code",
   "execution_count": 121,
   "id": "41706f70",
   "metadata": {},
   "outputs": [
    {
     "name": "stdout",
     "output_type": "stream",
     "text": [
      "Accuracy: 0.7603\n",
      "Precision: 0.7492\n",
      "Recall: 0.761\n"
     ]
    }
   ],
   "source": [
    "print(\"Accuracy:\", round(metrics.accuracy_score(y_test_log, y_pred_log), 4))\n",
    "print(\"Precision:\", round(metrics.precision_score(y_test_log, y_pred_log), 4))\n",
    "print(\"Recall:\", round(metrics.recall_score(y_test_log, y_pred_log), 4))"
   ]
  },
  {
   "cell_type": "raw",
   "id": "7e3c2931",
   "metadata": {},
   "source": [
    "We have a classification rate of 76%, pretty good accuracy.\n",
    "When out model predicts an explicit song, that song is explicit 74% of the time.\n",
    "Recall is when there are explicit songs in the test set and our Logistic Regression model can identify it 77% of the time."
   ]
  },
  {
   "cell_type": "markdown",
   "id": "78a13045",
   "metadata": {},
   "source": [
    "#### A diagonal line is a random guess that the model defines nonsense. If the curve approaches closer to the top-left corner, the model performance becomes much better. Any curve under the diagonal line is worse than a random guess."
   ]
  },
  {
   "cell_type": "markdown",
   "id": "d8570600",
   "metadata": {},
   "source": [
    "# Decision Tree Explicit Language"
   ]
  },
  {
   "cell_type": "code",
   "execution_count": 122,
   "id": "d6cb3f59",
   "metadata": {},
   "outputs": [
    {
     "data": {
      "text/plain": [
       "0    1637\n",
       "1    1637\n",
       "Name: explicit, dtype: int64"
      ]
     },
     "execution_count": 122,
     "metadata": {},
     "output_type": "execute_result"
    }
   ],
   "source": [
    "y.value_counts()"
   ]
  },
  {
   "cell_type": "code",
   "execution_count": 123,
   "id": "e96fc3e2",
   "metadata": {},
   "outputs": [],
   "source": [
    "# X.drop(X.columns[[1, 3]], axis=1, inplace=True)"
   ]
  },
  {
   "cell_type": "code",
   "execution_count": 124,
   "id": "16f61a01",
   "metadata": {},
   "outputs": [],
   "source": [
    "X_train, X_test, y_train, y_test_dt = train_test_split(X, y, test_size=0.2, random_state=0)"
   ]
  },
  {
   "cell_type": "code",
   "execution_count": 125,
   "id": "c1a6dfff",
   "metadata": {},
   "outputs": [],
   "source": [
    "clf_dt = DecisionTreeClassifier(random_state=0)\n",
    "clf_dt = clf_dt.fit(X_train, y_train)"
   ]
  },
  {
   "cell_type": "markdown",
   "id": "51956cb2",
   "metadata": {},
   "source": [
    "#### Plot confusion Matrix"
   ]
  },
  {
   "cell_type": "code",
   "execution_count": 126,
   "id": "519720dc",
   "metadata": {},
   "outputs": [],
   "source": [
    "y_pred_dt = clf_dt.predict(X_test)"
   ]
  },
  {
   "cell_type": "code",
   "execution_count": 127,
   "id": "5cb7d558",
   "metadata": {},
   "outputs": [],
   "source": [
    "cnf_matrix = metrics.confusion_matrix(y_test_dt, y_pred_dt)"
   ]
  },
  {
   "cell_type": "code",
   "execution_count": 128,
   "id": "0c3e6419",
   "metadata": {},
   "outputs": [
    {
     "data": {
      "text/plain": [
       "Text(0.5, 33.0, 'Predicted label')"
      ]
     },
     "execution_count": 128,
     "metadata": {},
     "output_type": "execute_result"
    },
    {
     "data": {
      "image/png": "[encoded data removed]",
      "text/plain": [
       "<Figure size 1152x432 with 2 Axes>"
      ]
     },
     "metadata": {
      "needs_background": "light"
     },
     "output_type": "display_data"
    }
   ],
   "source": [
    "plt.figure(figsize=(16, 6))\n",
    "sns.heatmap(pd.DataFrame(cnf_matrix), annot=True, cmap=\"BrBG\" ,fmt='g')\n",
    "plt.title('Correlation Matrix', fontdict={'fontsize':18}, pad=12)\n",
    "plt.ylabel('Actual label', size=14)\n",
    "plt.xlabel('Predicted label', size=14)"
   ]
  },
  {
   "cell_type": "markdown",
   "id": "ef2d0580",
   "metadata": {},
   "source": [
    "#### Maybe we can do better so we will prune the tree"
   ]
  },
  {
   "cell_type": "raw",
   "id": "d4093471",
   "metadata": {},
   "source": [
    "Pruning a decision tree is all about finding the right value for the pruning parameter, alpha, which controls how little or how much pruning happens. One way to find the optimal valur for alpha is to plot the accuracy of the tree as a function of different values. We'll do this for both the Training Datasset and the Testing Dataset."
   ]
  },
  {
   "cell_type": "raw",
   "id": "1382d2b6",
   "metadata": {},
   "source": [
    "First, let's extract the different values of alpha that are available for this tree and build a pruned tree for each value of alpha. We will omit the maximum value for alpha because it would prune all leaves, leaving us with only a root instead of a tree."
   ]
  },
  {
   "cell_type": "code",
   "execution_count": 129,
   "id": "d4335fb3",
   "metadata": {},
   "outputs": [],
   "source": [
    "path = clf_dt.cost_complexity_pruning_path(X_train, y_train)    # Determine alpha values\n",
    "ccp_alphas = path.ccp_alphas   # Extract values for alpha\n",
    "ccp_alphas = ccp_alphas[:-1]   # Exclude maximum value for alpha\n",
    "\n",
    "clf_dts = []   # Array to put decision tree into\n",
    "\n",
    "# Create one decision tree for each alpha and store it in the array\n",
    "for ccp_alpha in ccp_alphas:\n",
    "    clf_dt = DecisionTreeClassifier(random_state=0, ccp_alpha=ccp_alpha)\n",
    "    clf_dt.fit(X_train, y_train)\n",
    "    clf_dts.append(clf_dt)"
   ]
  },
  {
   "cell_type": "markdown",
   "id": "276256ef",
   "metadata": {},
   "source": [
    "#### Graph the accuracy of the trees for both training and testing datasets"
   ]
  },
  {
   "cell_type": "code",
   "execution_count": 130,
   "id": "4548568f",
   "metadata": {},
   "outputs": [],
   "source": [
    "train_scores = [clf_dt.score(X_train, y_train) for clf_dt in clf_dts]\n",
    "test_scores = [clf_dt.score(X_test, y_test_dt) for clf_dt in clf_dts]"
   ]
  },
  {
   "cell_type": "code",
   "execution_count": 131,
   "id": "4dd3784b",
   "metadata": {},
   "outputs": [
    {
     "data": {
      "image/png": "[encoded data removed]",
      "text/plain": [
       "<Figure size 720x720 with 1 Axes>"
      ]
     },
     "metadata": {
      "needs_background": "light"
     },
     "output_type": "display_data"
    }
   ],
   "source": [
    "plt.figure(figsize=(10, 10))\n",
    "plt.xlabel(\"alpha\")\n",
    "plt.ylabel(\"Accuracy\")\n",
    "plt.title(\"Accuracy vs Alpha for training and testing sets\")\n",
    "plt.plot(ccp_alphas, train_scores, marker='o', label=\"traing\", drawstyle=\"steps-post\")\n",
    "plt.plot(ccp_alphas, test_scores, marker='o', label=\"test\", drawstyle=\"steps-post\")\n",
    "plt.grid()\n",
    "plt.legend()\n",
    "plt.show()"
   ]
  },
  {
   "cell_type": "markdown",
   "id": "25609ee5",
   "metadata": {},
   "source": [
    "#### Cross Validation to find the best Alpha"
   ]
  },
  {
   "cell_type": "code",
   "execution_count": 132,
   "id": "cd2eb068",
   "metadata": {},
   "outputs": [],
   "source": [
    "clf_dt = DecisionTreeClassifier(random_state=0, ccp_alpha=0.0015)   # Create a tree with 0.001 alpha\n",
    "cv = 5\n",
    "scores = cross_val_score(clf_dt, X_train, y_train, cv=cv)\n",
    "df = pd.DataFrame(data={\"tree\" : range(cv), \"accuracy\":scores})"
   ]
  },
  {
   "cell_type": "code",
   "execution_count": 133,
   "id": "1c7f79ac",
   "metadata": {},
   "outputs": [
    {
     "data": {
      "text/plain": [
       "<AxesSubplot:xlabel='tree'>"
      ]
     },
     "execution_count": 133,
     "metadata": {},
     "output_type": "execute_result"
    },
    {
     "data": {
      "image/png": "[encoded data removed]",
      "text/plain": [
       "<Figure size 432x288 with 1 Axes>"
      ]
     },
     "metadata": {
      "needs_background": "light"
     },
     "output_type": "display_data"
    }
   ],
   "source": [
    "df.plot(x='tree', y='accuracy', marker='o', linestyle='--')"
   ]
  },
  {
   "cell_type": "raw",
   "id": "31baa125",
   "metadata": {},
   "source": [
    "The graph above shows that using different Training and Testing data with same alpha will be sensitive to changes. So, we will use cross validation to find the optimal value for ccp_alpha"
   ]
  },
  {
   "cell_type": "code",
   "execution_count": 134,
   "id": "254876ae",
   "metadata": {},
   "outputs": [
    {
     "data": {
      "text/plain": [
       "<AxesSubplot:xlabel='alpha'>"
      ]
     },
     "execution_count": 134,
     "metadata": {},
     "output_type": "execute_result"
    },
    {
     "data": {
      "image/png": "[encoded data removed]",
      "text/plain": [
       "<Figure size 432x288 with 1 Axes>"
      ]
     },
     "metadata": {
      "needs_background": "light"
     },
     "output_type": "display_data"
    }
   ],
   "source": [
    "# Create array to store results of each fold during cross validation\n",
    "alpha_loop_values = []\n",
    "\n",
    "# For each alpha we will run a 5 fold-cross validation.\n",
    "# We will store the mean and std of the scores (accuracy) for each call\n",
    "for ccp_alpha in ccp_alphas:\n",
    "    clf_dt = DecisionTreeClassifier(random_state=0, ccp_alpha=ccp_alpha)\n",
    "    scores = cross_val_score(clf_dt, X_train, y_train, cv=5)\n",
    "    alpha_loop_values.append([ccp_alpha, np.mean(scores), np.std(scores)])\n",
    "    \n",
    "# Draw a graph of the means and std of the scores\n",
    "# For each value of alpha\n",
    "alpha_results = pd.DataFrame(alpha_loop_values, columns=['alpha', 'mean_accuracy', 'std'])\n",
    "alpha_results.plot(x='alpha', y='mean_accuracy', yerr='std', marker='o', linestyle='--')"
   ]
  },
  {
   "cell_type": "raw",
   "id": "8de0b289",
   "metadata": {},
   "source": [
    "Using cross validation, we conclude that the values is something closer to 0.0008. We can find the exact value though."
   ]
  },
  {
   "cell_type": "code",
   "execution_count": 135,
   "id": "97965d00",
   "metadata": {
    "scrolled": true
   },
   "outputs": [
    {
     "data": {
      "text/html": [
       "<div>\n",
       "<style scoped>\n",
       "    .dataframe tbody tr th:only-of-type {\n",
       "        vertical-align: middle;\n",
       "    }\n",
       "\n",
       "    .dataframe tbody tr th {\n",
       "        vertical-align: top;\n",
       "    }\n",
       "\n",
       "    .dataframe thead th {\n",
       "        text-align: right;\n",
       "    }\n",
       "</style>\n",
       "<table border=\"1\" class=\"dataframe\">\n",
       "  <thead>\n",
       "    <tr style=\"text-align: right;\">\n",
       "      <th></th>\n",
       "      <th>alpha</th>\n",
       "      <th>mean_accuracy</th>\n",
       "      <th>std</th>\n",
       "    </tr>\n",
       "  </thead>\n",
       "  <tbody>\n",
       "    <tr>\n",
       "      <th>53</th>\n",
       "      <td>0.000509</td>\n",
       "      <td>0.742261</td>\n",
       "      <td>0.015258</td>\n",
       "    </tr>\n",
       "    <tr>\n",
       "      <th>54</th>\n",
       "      <td>0.000509</td>\n",
       "      <td>0.742261</td>\n",
       "      <td>0.015258</td>\n",
       "    </tr>\n",
       "    <tr>\n",
       "      <th>55</th>\n",
       "      <td>0.000509</td>\n",
       "      <td>0.742261</td>\n",
       "      <td>0.015258</td>\n",
       "    </tr>\n",
       "    <tr>\n",
       "      <th>56</th>\n",
       "      <td>0.000509</td>\n",
       "      <td>0.742261</td>\n",
       "      <td>0.015258</td>\n",
       "    </tr>\n",
       "    <tr>\n",
       "      <th>57</th>\n",
       "      <td>0.000509</td>\n",
       "      <td>0.742261</td>\n",
       "      <td>0.015258</td>\n",
       "    </tr>\n",
       "    <tr>\n",
       "      <th>...</th>\n",
       "      <td>...</td>\n",
       "      <td>...</td>\n",
       "      <td>...</td>\n",
       "    </tr>\n",
       "    <tr>\n",
       "      <th>209</th>\n",
       "      <td>0.002020</td>\n",
       "      <td>0.758686</td>\n",
       "      <td>0.007418</td>\n",
       "    </tr>\n",
       "    <tr>\n",
       "      <th>210</th>\n",
       "      <td>0.002087</td>\n",
       "      <td>0.760977</td>\n",
       "      <td>0.006652</td>\n",
       "    </tr>\n",
       "    <tr>\n",
       "      <th>211</th>\n",
       "      <td>0.002098</td>\n",
       "      <td>0.760596</td>\n",
       "      <td>0.006669</td>\n",
       "    </tr>\n",
       "    <tr>\n",
       "      <th>212</th>\n",
       "      <td>0.002184</td>\n",
       "      <td>0.758687</td>\n",
       "      <td>0.009449</td>\n",
       "    </tr>\n",
       "    <tr>\n",
       "      <th>213</th>\n",
       "      <td>0.002915</td>\n",
       "      <td>0.758690</td>\n",
       "      <td>0.011924</td>\n",
       "    </tr>\n",
       "  </tbody>\n",
       "</table>\n",
       "<p>161 rows × 3 columns</p>\n",
       "</div>"
      ],
      "text/plain": [
       "        alpha  mean_accuracy       std\n",
       "53   0.000509       0.742261  0.015258\n",
       "54   0.000509       0.742261  0.015258\n",
       "55   0.000509       0.742261  0.015258\n",
       "56   0.000509       0.742261  0.015258\n",
       "57   0.000509       0.742261  0.015258\n",
       "..        ...            ...       ...\n",
       "209  0.002020       0.758686  0.007418\n",
       "210  0.002087       0.760977  0.006652\n",
       "211  0.002098       0.760596  0.006669\n",
       "212  0.002184       0.758687  0.009449\n",
       "213  0.002915       0.758690  0.011924\n",
       "\n",
       "[161 rows x 3 columns]"
      ]
     },
     "execution_count": 135,
     "metadata": {},
     "output_type": "execute_result"
    }
   ],
   "source": [
    "alpha_results[(alpha_results['alpha'] > 0.0005) & (alpha_results['alpha'] < 0.003)]"
   ]
  },
  {
   "cell_type": "markdown",
   "id": "7567f14e",
   "metadata": {},
   "source": [
    "#### Further, let's store the ideal value for alpha so that we can use it to build the best tree"
   ]
  },
  {
   "cell_type": "code",
   "execution_count": 136,
   "id": "e24e5cec",
   "metadata": {},
   "outputs": [
    {
     "data": {
      "text/plain": [
       "alpha            0.001445\n",
       "mean_accuracy    0.762884\n",
       "std              0.007074\n",
       "Name: 197, dtype: float64"
      ]
     },
     "execution_count": 136,
     "metadata": {},
     "output_type": "execute_result"
    }
   ],
   "source": [
    "ideal_ccp_alpha  = alpha_results.loc[alpha_results['mean_accuracy'].idxmax()]\n",
    "ideal_ccp_alpha"
   ]
  },
  {
   "cell_type": "code",
   "execution_count": 137,
   "id": "fb8349c4",
   "metadata": {},
   "outputs": [],
   "source": [
    "ideal_ccp_alpha = float(ideal_ccp_alpha['alpha'])"
   ]
  },
  {
   "cell_type": "code",
   "execution_count": 138,
   "id": "03933bdb",
   "metadata": {},
   "outputs": [
    {
     "data": {
      "text/plain": [
       "0.0014447437127849496"
      ]
     },
     "execution_count": 138,
     "metadata": {},
     "output_type": "execute_result"
    }
   ],
   "source": [
    "ideal_ccp_alpha"
   ]
  },
  {
   "cell_type": "markdown",
   "id": "019219f0",
   "metadata": {},
   "source": [
    "#### Evaluate and draw the final Decision Tree"
   ]
  },
  {
   "cell_type": "code",
   "execution_count": 139,
   "id": "319a9238",
   "metadata": {},
   "outputs": [],
   "source": [
    "clf_dt_pruned = DecisionTreeClassifier(random_state=0, ccp_alpha=ideal_ccp_alpha)\n",
    "clf_dt_pruned = clf_dt_pruned.fit(X_train, y_train)"
   ]
  },
  {
   "cell_type": "markdown",
   "id": "cf7f8740",
   "metadata": {},
   "source": [
    "#### Plot confusion Matrix"
   ]
  },
  {
   "cell_type": "code",
   "execution_count": 140,
   "id": "16536765",
   "metadata": {},
   "outputs": [],
   "source": [
    "y_pred_dt = clf_dt_pruned.predict(X_test)"
   ]
  },
  {
   "cell_type": "code",
   "execution_count": 141,
   "id": "3c9fa938",
   "metadata": {},
   "outputs": [
    {
     "name": "stdout",
     "output_type": "stream",
     "text": [
      "Feature: 0, Score: 0.07374\n",
      "Feature: 1, Score: 0.01796\n",
      "Feature: 2, Score: 0.50953\n",
      "Feature: 3, Score: 0.03509\n",
      "Feature: 4, Score: 0.17857\n",
      "Feature: 5, Score: 0.07120\n",
      "Feature: 6, Score: 0.11392\n"
     ]
    },
    {
     "data": {
      "image/png": "[encoded data removed]",
      "text/plain": [
       "<Figure size 432x288 with 1 Axes>"
      ]
     },
     "metadata": {
      "needs_background": "light"
     },
     "output_type": "display_data"
    }
   ],
   "source": [
    "importance = clf_dt_pruned.feature_importances_\n",
    "# summarize feature importance\n",
    "for i,v in enumerate(importance):\n",
    "    print('Feature: %0d, Score: %.5f' % (i,v))\n",
    "# plot feature importance\n",
    "plt.bar([x for x in range(len(importance))], importance)\n",
    "plt.show()"
   ]
  },
  {
   "cell_type": "code",
   "execution_count": 142,
   "id": "a6c22cc4",
   "metadata": {},
   "outputs": [],
   "source": [
    "cnf_matrix = metrics.confusion_matrix(y_test_dt, y_pred_dt)"
   ]
  },
  {
   "cell_type": "code",
   "execution_count": 143,
   "id": "36f3850a",
   "metadata": {},
   "outputs": [
    {
     "data": {
      "text/plain": [
       "Text(0.5, 33.0, 'Predicted label')"
      ]
     },
     "execution_count": 143,
     "metadata": {},
     "output_type": "execute_result"
    },
    {
     "data": {
      "image/png": "[encoded data removed]",
      "text/plain": [
       "<Figure size 1152x432 with 2 Axes>"
      ]
     },
     "metadata": {
      "needs_background": "light"
     },
     "output_type": "display_data"
    }
   ],
   "source": [
    "plt.figure(figsize=(16, 6))\n",
    "sns.heatmap(pd.DataFrame(cnf_matrix), annot=True, cmap=\"BrBG\" ,fmt='g')\n",
    "plt.title('Correlation Matrix', fontdict={'fontsize':18}, pad=12)\n",
    "plt.ylabel('Actual label', size=14)\n",
    "plt.xlabel('Predicted label', size=14)"
   ]
  },
  {
   "cell_type": "markdown",
   "id": "f627de38",
   "metadata": {},
   "source": [
    "# Plot the ROC Curve for the performed Models"
   ]
  },
  {
   "cell_type": "code",
   "execution_count": 144,
   "id": "8ce88030",
   "metadata": {},
   "outputs": [],
   "source": [
    "fpr_log, tpr_log, thresh_log = metrics.roc_curve(y_test_log, y_pred_log)\n",
    "fpr_dt, tpr_dt, thresh_dt = metrics.roc_curve(y_test_dt, y_pred_dt)\n",
    "\n",
    "auc_log = metrics.auc(fpr_log, tpr_log)\n",
    "auc_dt = metrics.auc(fpr_dt, tpr_dt)"
   ]
  },
  {
   "cell_type": "code",
   "execution_count": 145,
   "id": "6dffc62e",
   "metadata": {},
   "outputs": [
    {
     "data": {
      "image/png": "[encoded data removed]",
      "text/plain": [
       "<Figure size 720x720 with 1 Axes>"
      ]
     },
     "metadata": {
      "needs_background": "light"
     },
     "output_type": "display_data"
    }
   ],
   "source": [
    "plt.figure(figsize=(10, 10))\n",
    "\n",
    "plt.plot(fpr_log, tpr_log, label=f'ROC curve Logistic Regression: {round(auc_log, 3)}')\n",
    "plt.plot(fpr_dt, tpr_dt, label=f'ROC curve Decision Trees: {round(auc_dt, 3)}')\n",
    "\n",
    "plt.plot([0, 1], [0, 1], linestyle='--', lw=2, color='r', label='Random guess')\n",
    "plt.title('ROC curve', size=18)\n",
    "plt.xlabel('False Positive Rate', size=14)\n",
    "plt.ylabel('True Positive Rate', size=14)\n",
    "plt.grid()\n",
    "plt.legend()\n",
    "plt.show()"
   ]
  }
 ],
 "metadata": {
  "kernelspec": {
   "display_name": "Python 3 (ipykernel)",
   "language": "python",
   "name": "python3"
  },
  "language_info": {
   "codemirror_mode": {
    "name": "ipython",
    "version": 3
   },
   "file_extension": ".py",
   "mimetype": "text/x-python",
   "name": "python",
   "nbconvert_exporter": "python",
   "pygments_lexer": "ipython3",
   "version": "3.9.0"
  }
 },
 "nbformat": 4,
 "nbformat_minor": 5
}
